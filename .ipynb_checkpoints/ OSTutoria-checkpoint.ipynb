{
 "cells": [
  {
   "cell_type": "code",
   "execution_count": 1,
   "id": "7079e3c5",
   "metadata": {},
   "outputs": [
    {
     "name": "stdout",
     "output_type": "stream",
     "text": [
      "['DirEntry', 'F_OK', 'MutableMapping', 'O_APPEND', 'O_BINARY', 'O_CREAT', 'O_EXCL', 'O_NOINHERIT', 'O_RANDOM', 'O_RDONLY', 'O_RDWR', 'O_SEQUENTIAL', 'O_SHORT_LIVED', 'O_TEMPORARY', 'O_TEXT', 'O_TRUNC', 'O_WRONLY', 'P_DETACH', 'P_NOWAIT', 'P_NOWAITO', 'P_OVERLAY', 'P_WAIT', 'PathLike', 'R_OK', 'SEEK_CUR', 'SEEK_END', 'SEEK_SET', 'TMP_MAX', 'W_OK', 'X_OK', '_AddedDllDirectory', '_Environ', '__all__', '__builtins__', '__cached__', '__doc__', '__file__', '__loader__', '__name__', '__package__', '__spec__', '_check_methods', '_execvpe', '_exists', '_exit', '_fspath', '_get_exports_list', '_putenv', '_unsetenv', '_wrap_close', 'abc', 'abort', 'access', 'add_dll_directory', 'altsep', 'chdir', 'chmod', 'close', 'closerange', 'cpu_count', 'curdir', 'defpath', 'device_encoding', 'devnull', 'dup', 'dup2', 'environ', 'error', 'execl', 'execle', 'execlp', 'execlpe', 'execv', 'execve', 'execvp', 'execvpe', 'extsep', 'fdopen', 'fsdecode', 'fsencode', 'fspath', 'fstat', 'fsync', 'ftruncate', 'get_exec_path', 'get_handle_inheritable', 'get_inheritable', 'get_terminal_size', 'getcwd', 'getcwdb', 'getenv', 'getlogin', 'getpid', 'getppid', 'isatty', 'kill', 'linesep', 'link', 'listdir', 'lseek', 'lstat', 'makedirs', 'mkdir', 'name', 'open', 'pardir', 'path', 'pathsep', 'pipe', 'popen', 'putenv', 'read', 'readlink', 'remove', 'removedirs', 'rename', 'renames', 'replace', 'rmdir', 'scandir', 'sep', 'set_handle_inheritable', 'set_inheritable', 'spawnl', 'spawnle', 'spawnv', 'spawnve', 'st', 'startfile', 'stat', 'stat_result', 'statvfs_result', 'strerror', 'supports_bytes_environ', 'supports_dir_fd', 'supports_effective_ids', 'supports_fd', 'supports_follow_symlinks', 'symlink', 'sys', 'system', 'terminal_size', 'times', 'times_result', 'truncate', 'umask', 'uname_result', 'unlink', 'urandom', 'utime', 'waitpid', 'walk', 'write']\n"
     ]
    }
   ],
   "source": [
    "import os\n",
    "\n",
    "print(dir(os))"
   ]
  },
  {
   "cell_type": "code",
   "execution_count": 20,
   "id": "252ce727",
   "metadata": {},
   "outputs": [
    {
     "name": "stdout",
     "output_type": "stream",
     "text": [
      "C:\\Users\\o050862\\Desktop\n"
     ]
    }
   ],
   "source": [
    "print (os.getcwd())"
   ]
  },
  {
   "cell_type": "code",
   "execution_count": null,
   "id": "2af25306",
   "metadata": {},
   "outputs": [],
   "source": []
  },
  {
   "cell_type": "code",
   "execution_count": 6,
   "id": "3bbbf806",
   "metadata": {
    "collapsed": true
   },
   "outputs": [
    {
     "name": "stdout",
     "output_type": "stream",
     "text": [
      "C:\\Users\\o050862\\Desktop\n"
     ]
    }
   ],
   "source": [
    "os.chdir ('C:/Users/o050862/Desktop/')\n",
    "print (os.getcwd())"
   ]
  },
  {
   "cell_type": "code",
   "execution_count": 7,
   "id": "d7d250b8",
   "metadata": {
    "scrolled": true
   },
   "outputs": [
    {
     "name": "stdout",
     "output_type": "stream",
     "text": [
      "['3D Objects - Shortcut.lnk', 'Applications', 'BMI', 'Data_Science', 'desktop.ini', 'Microsoft Teams.lnk', 'Python Module', 'PythonTutorial']\n"
     ]
    }
   ],
   "source": [
    "print(os.listdir())"
   ]
  },
  {
   "cell_type": "code",
   "execution_count": 13,
   "id": "103cd8af",
   "metadata": {},
   "outputs": [
    {
     "ename": "AttributeError",
     "evalue": "module 'os' has no attribute 'mkdirs'",
     "output_type": "error",
     "traceback": [
      "\u001b[1;31m---------------------------------------------------------------------------\u001b[0m",
      "\u001b[1;31mAttributeError\u001b[0m                            Traceback (most recent call last)",
      "\u001b[1;32m<ipython-input-13-a71d013b5929>\u001b[0m in \u001b[0;36m<module>\u001b[1;34m\u001b[0m\n\u001b[1;32m----> 1\u001b[1;33m \u001b[0mos\u001b[0m\u001b[1;33m.\u001b[0m\u001b[0mmkdirs\u001b[0m\u001b[1;33m(\u001b[0m\u001b[1;34m'OS-Demo-2/Sub-Dir-1'\u001b[0m\u001b[1;33m)\u001b[0m\u001b[1;33m\u001b[0m\u001b[1;33m\u001b[0m\u001b[0m\n\u001b[0m",
      "\u001b[1;31mAttributeError\u001b[0m: module 'os' has no attribute 'mkdirs'"
     ]
    }
   ],
   "source": [
    "os.mkdirs('OS-Demo-2/Sub-Dir-1')\n"
   ]
  },
  {
   "cell_type": "code",
   "execution_count": 14,
   "id": "c3d88cd7",
   "metadata": {},
   "outputs": [
    {
     "ename": "AttributeError",
     "evalue": "module 'os' has no attribute 'rmdirs'",
     "output_type": "error",
     "traceback": [
      "\u001b[1;31m---------------------------------------------------------------------------\u001b[0m",
      "\u001b[1;31mAttributeError\u001b[0m                            Traceback (most recent call last)",
      "\u001b[1;32m<ipython-input-14-6a55b9ee9fd4>\u001b[0m in \u001b[0;36m<module>\u001b[1;34m\u001b[0m\n\u001b[1;32m----> 1\u001b[1;33m \u001b[0mos\u001b[0m\u001b[1;33m.\u001b[0m\u001b[0mrmdirs\u001b[0m\u001b[1;33m(\u001b[0m\u001b[1;34m'OS-Demo-2/Sub-Dir-1'\u001b[0m\u001b[1;33m)\u001b[0m\u001b[1;33m\u001b[0m\u001b[1;33m\u001b[0m\u001b[0m\n\u001b[0m",
      "\u001b[1;31mAttributeError\u001b[0m: module 'os' has no attribute 'rmdirs'"
     ]
    }
   ],
   "source": [
    "os.rmdirs('OS-Demo-2/Sub-Dir-1')"
   ]
  },
  {
   "cell_type": "code",
   "execution_count": 25,
   "id": "02b07874",
   "metadata": {},
   "outputs": [
    {
     "ename": "FileNotFoundError",
     "evalue": "[WinError 2] The system cannot find the file specified: 'myName.txt'",
     "output_type": "error",
     "traceback": [
      "\u001b[1;31m---------------------------------------------------------------------------\u001b[0m",
      "\u001b[1;31mFileNotFoundError\u001b[0m                         Traceback (most recent call last)",
      "\u001b[1;32m<ipython-input-25-5f3badc6f868>\u001b[0m in \u001b[0;36m<module>\u001b[1;34m\u001b[0m\n\u001b[1;32m----> 1\u001b[1;33m \u001b[0mprint\u001b[0m\u001b[1;33m(\u001b[0m\u001b[0mos\u001b[0m\u001b[1;33m.\u001b[0m\u001b[0mstat\u001b[0m\u001b[1;33m(\u001b[0m\u001b[1;34m'myName.txt'\u001b[0m\u001b[1;33m)\u001b[0m\u001b[1;33m.\u001b[0m\u001b[0mst_mtime\u001b[0m\u001b[1;33m)\u001b[0m\u001b[1;33m\u001b[0m\u001b[1;33m\u001b[0m\u001b[0m\n\u001b[0m",
      "\u001b[1;31mFileNotFoundError\u001b[0m: [WinError 2] The system cannot find the file specified: 'myName.txt'"
     ]
    }
   ],
   "source": [
    "print(os.stat('myName.txt').st_mtime)"
   ]
  },
  {
   "cell_type": "code",
   "execution_count": 18,
   "id": "b2e6c5d4",
   "metadata": {},
   "outputs": [
    {
     "ename": "SyntaxError",
     "evalue": "unexpected EOF while parsing (<ipython-input-18-b4a3fd214922>, line 2)",
     "output_type": "error",
     "traceback": [
      "\u001b[1;36m  File \u001b[1;32m\"<ipython-input-18-b4a3fd214922>\"\u001b[1;36m, line \u001b[1;32m2\u001b[0m\n\u001b[1;33m    \u001b[0m\n\u001b[1;37m    ^\u001b[0m\n\u001b[1;31mSyntaxError\u001b[0m\u001b[1;31m:\u001b[0m unexpected EOF while parsing\n"
     ]
    }
   ],
   "source": [
    "print(os.stat('demo.txt').st_mtime      "
   ]
  },
  {
   "cell_type": "code",
   "execution_count": 21,
   "id": "0ab3ac95",
   "metadata": {},
   "outputs": [
    {
     "name": "stdout",
     "output_type": "stream",
     "text": [
      "Current Path: C:/Users/o050862/Desktop/\n",
      "Directories: ['Applications', 'BMI', 'Data_Science', 'Os-Demo-2', 'Python Module', 'PythonTutorial']\n",
      "Files: ['3D Objects - Shortcut.lnk', 'desktop.ini', 'Microsoft Teams.lnk']\n",
      "\n",
      "Current Path: C:/Users/o050862/Desktop/Applications\n",
      "Directories: []\n",
      "Files: ['Morris Muthubi Resume.pdf']\n",
      "\n",
      "Current Path: C:/Users/o050862/Desktop/BMI\n",
      "Directories: ['Fall 2021']\n",
      "Files: []\n",
      "\n",
      "Current Path: C:/Users/o050862/Desktop/BMI\\Fall 2021\n",
      "Directories: ['6010_HI', '6203_CDD', '6701_PPHI', '6806_CSF', 'Web_Dev']\n",
      "Files: []\n",
      "\n",
      "Current Path: C:/Users/o050862/Desktop/BMI\\Fall 2021\\6010_HI\n",
      "Directories: []\n",
      "Files: ['Intros.docx', 'M1_What is Health Informatics.docx']\n",
      "\n",
      "Current Path: C:/Users/o050862/Desktop/BMI\\Fall 2021\\6203_CDD\n",
      "Directories: []\n",
      "Files: ['Assignment 1 Clinical DataBase Design.docx', 'Assignment 1 Clinical DataBase Design.pdf', 'MI_Introduction to Database.docx']\n",
      "\n",
      "Current Path: C:/Users/o050862/Desktop/BMI\\Fall 2021\\6701_PPHI\n",
      "Directories: []\n",
      "Files: ['Improving health of the American People.docx']\n",
      "\n",
      "Current Path: C:/Users/o050862/Desktop/BMI\\Fall 2021\\6806_CSF\n",
      "Directories: ['myProject']\n",
      "Files: []\n",
      "\n",
      "Current Path: C:/Users/o050862/Desktop/BMI\\Fall 2021\\6806_CSF\\myProject\n",
      "Directories: ['New folder']\n",
      "Files: ['myName.txt.txt']\n",
      "\n",
      "Current Path: C:/Users/o050862/Desktop/BMI\\Fall 2021\\6806_CSF\\myProject\\New folder\n",
      "Directories: []\n",
      "Files: []\n",
      "\n",
      "Current Path: C:/Users/o050862/Desktop/BMI\\Fall 2021\\Web_Dev\n",
      "Directories: ['Dev']\n",
      "Files: []\n",
      "\n",
      "Current Path: C:/Users/o050862/Desktop/BMI\\Fall 2021\\Web_Dev\\Dev\n",
      "Directories: ['vs-intro']\n",
      "Files: []\n",
      "\n",
      "Current Path: C:/Users/o050862/Desktop/BMI\\Fall 2021\\Web_Dev\\Dev\\vs-intro\n",
      "Directories: ['.vscode']\n",
      "Files: ['Index.html', 'intro.txt']\n",
      "\n",
      "Current Path: C:/Users/o050862/Desktop/BMI\\Fall 2021\\Web_Dev\\Dev\\vs-intro\\.vscode\n",
      "Directories: []\n",
      "Files: []\n",
      "\n",
      "Current Path: C:/Users/o050862/Desktop/Data_Science\n",
      "Directories: ['exerPythDataScienceTut']\n",
      "Files: []\n",
      "\n",
      "Current Path: C:/Users/o050862/Desktop/Data_Science\\exerPythDataScienceTut\n",
      "Directories: ['.git', '.ipynb_checkpoints']\n",
      "Files: ['cars.csv', 'Datascience.ipynb', 'New.py', 'README.md', 'untitled', 'Untitled.ipynb']\n",
      "\n",
      "Current Path: C:/Users/o050862/Desktop/Data_Science\\exerPythDataScienceTut\\.git\n",
      "Directories: ['hooks', 'info', 'logs', 'objects', 'refs']\n",
      "Files: ['COMMIT_EDITMSG', 'config', 'description', 'FETCH_HEAD', 'HEAD', 'index', 'ORIG_HEAD', 'packed-refs']\n",
      "\n",
      "Current Path: C:/Users/o050862/Desktop/Data_Science\\exerPythDataScienceTut\\.git\\hooks\n",
      "Directories: []\n",
      "Files: ['applypatch-msg.sample', 'commit-msg.sample', 'fsmonitor-watchman.sample', 'post-update.sample', 'pre-applypatch.sample', 'pre-commit.sample', 'pre-merge-commit.sample', 'pre-push.sample', 'pre-rebase.sample', 'pre-receive.sample', 'prepare-commit-msg.sample', 'push-to-checkout.sample', 'update.sample']\n",
      "\n",
      "Current Path: C:/Users/o050862/Desktop/Data_Science\\exerPythDataScienceTut\\.git\\info\n",
      "Directories: []\n",
      "Files: ['exclude']\n",
      "\n",
      "Current Path: C:/Users/o050862/Desktop/Data_Science\\exerPythDataScienceTut\\.git\\logs\n",
      "Directories: ['refs']\n",
      "Files: ['HEAD']\n",
      "\n",
      "Current Path: C:/Users/o050862/Desktop/Data_Science\\exerPythDataScienceTut\\.git\\logs\\refs\n",
      "Directories: ['heads', 'remotes']\n",
      "Files: []\n",
      "\n",
      "Current Path: C:/Users/o050862/Desktop/Data_Science\\exerPythDataScienceTut\\.git\\logs\\refs\\heads\n",
      "Directories: []\n",
      "Files: ['master']\n",
      "\n",
      "Current Path: C:/Users/o050862/Desktop/Data_Science\\exerPythDataScienceTut\\.git\\logs\\refs\\remotes\n",
      "Directories: ['origin']\n",
      "Files: []\n",
      "\n",
      "Current Path: C:/Users/o050862/Desktop/Data_Science\\exerPythDataScienceTut\\.git\\logs\\refs\\remotes\\origin\n",
      "Directories: []\n",
      "Files: ['HEAD', 'master']\n",
      "\n",
      "Current Path: C:/Users/o050862/Desktop/Data_Science\\exerPythDataScienceTut\\.git\\objects\n",
      "Directories: ['05', '0c', '18', '1b', '54', '91', '97', '99', 'a9', 'd9', 'da', 'e6', 'info', 'pack']\n",
      "Files: []\n",
      "\n",
      "Current Path: C:/Users/o050862/Desktop/Data_Science\\exerPythDataScienceTut\\.git\\objects\\05\n",
      "Directories: []\n",
      "Files: ['410451faa03b18fa9cc33d5411169866460f50']\n",
      "\n",
      "Current Path: C:/Users/o050862/Desktop/Data_Science\\exerPythDataScienceTut\\.git\\objects\\0c\n",
      "Directories: []\n",
      "Files: ['9dbb693af947a14aafbd36900a3b3ae846b9e6']\n",
      "\n",
      "Current Path: C:/Users/o050862/Desktop/Data_Science\\exerPythDataScienceTut\\.git\\objects\\18\n",
      "Directories: []\n",
      "Files: ['153dde99705cfca47506a92f27ef17c83e195c']\n",
      "\n",
      "Current Path: C:/Users/o050862/Desktop/Data_Science\\exerPythDataScienceTut\\.git\\objects\\1b\n",
      "Directories: []\n",
      "Files: ['b951be8bb31666084d8ca999ba49b292605384']\n",
      "\n",
      "Current Path: C:/Users/o050862/Desktop/Data_Science\\exerPythDataScienceTut\\.git\\objects\\54\n",
      "Directories: []\n",
      "Files: ['bd2cf7cc6872c0598fa189c4c74e3853a143f6']\n",
      "\n",
      "Current Path: C:/Users/o050862/Desktop/Data_Science\\exerPythDataScienceTut\\.git\\objects\\91\n",
      "Directories: []\n",
      "Files: ['9464a7b71e0a76a3df19ee56d6b005859352e7']\n",
      "\n",
      "Current Path: C:/Users/o050862/Desktop/Data_Science\\exerPythDataScienceTut\\.git\\objects\\97\n",
      "Directories: []\n",
      "Files: ['0fb087563f56704571fc187da596e3c6c863ba']\n",
      "\n",
      "Current Path: C:/Users/o050862/Desktop/Data_Science\\exerPythDataScienceTut\\.git\\objects\\99\n",
      "Directories: []\n",
      "Files: ['b890ab4935a43532f36f91842b5e76e8e8f28b']\n",
      "\n",
      "Current Path: C:/Users/o050862/Desktop/Data_Science\\exerPythDataScienceTut\\.git\\objects\\a9\n",
      "Directories: []\n",
      "Files: ['86ffb4cfc8cf3bad13c9e766691a5c433205bd']\n",
      "\n",
      "Current Path: C:/Users/o050862/Desktop/Data_Science\\exerPythDataScienceTut\\.git\\objects\\d9\n",
      "Directories: []\n",
      "Files: ['bbf8b382bee8a10e0957e4391df7ce0a8cd279']\n",
      "\n",
      "Current Path: C:/Users/o050862/Desktop/Data_Science\\exerPythDataScienceTut\\.git\\objects\\da\n",
      "Directories: []\n",
      "Files: ['7a1506b2d544be66dc6382ca772a5968cdb789']\n",
      "\n",
      "Current Path: C:/Users/o050862/Desktop/Data_Science\\exerPythDataScienceTut\\.git\\objects\\e6\n",
      "Directories: []\n",
      "Files: ['9de29bb2d1d6434b8b29ae775ad8c2e48c5391']\n",
      "\n",
      "Current Path: C:/Users/o050862/Desktop/Data_Science\\exerPythDataScienceTut\\.git\\objects\\info\n",
      "Directories: []\n",
      "Files: []\n",
      "\n",
      "Current Path: C:/Users/o050862/Desktop/Data_Science\\exerPythDataScienceTut\\.git\\objects\\pack\n",
      "Directories: []\n",
      "Files: ['pack-95dc2681256652a74c80a452ac1083e3edceaa85.idx', 'pack-95dc2681256652a74c80a452ac1083e3edceaa85.pack']\n",
      "\n",
      "Current Path: C:/Users/o050862/Desktop/Data_Science\\exerPythDataScienceTut\\.git\\refs\n",
      "Directories: ['heads', 'remotes', 'tags']\n",
      "Files: []\n",
      "\n",
      "Current Path: C:/Users/o050862/Desktop/Data_Science\\exerPythDataScienceTut\\.git\\refs\\heads\n",
      "Directories: []\n",
      "Files: ['master']\n",
      "\n",
      "Current Path: C:/Users/o050862/Desktop/Data_Science\\exerPythDataScienceTut\\.git\\refs\\remotes\n",
      "Directories: ['origin']\n",
      "Files: []\n",
      "\n",
      "Current Path: C:/Users/o050862/Desktop/Data_Science\\exerPythDataScienceTut\\.git\\refs\\remotes\\origin\n",
      "Directories: []\n",
      "Files: ['HEAD', 'master']\n",
      "\n",
      "Current Path: C:/Users/o050862/Desktop/Data_Science\\exerPythDataScienceTut\\.git\\refs\\tags\n",
      "Directories: []\n",
      "Files: []\n",
      "\n",
      "Current Path: C:/Users/o050862/Desktop/Data_Science\\exerPythDataScienceTut\\.ipynb_checkpoints\n",
      "Directories: []\n",
      "Files: ['Untitled-checkpoint.ipynb']\n",
      "\n",
      "Current Path: C:/Users/o050862/Desktop/Os-Demo-2\n",
      "Directories: ['sub-dir-1']\n",
      "Files: []\n",
      "\n",
      "Current Path: C:/Users/o050862/Desktop/Os-Demo-2\\sub-dir-1\n",
      "Directories: []\n",
      "Files: []\n",
      "\n",
      "Current Path: C:/Users/o050862/Desktop/Python Module\n",
      "Directories: ['exerPythModPackTutorial', 'Test']\n",
      "Files: []\n",
      "\n",
      "Current Path: C:/Users/o050862/Desktop/Python Module\\exerPythModPackTutorial\n",
      "Directories: ['.git', '.ipynb_checkpoints']\n",
      "Files: ['fact.ipynb', 'mod.ipynb', 'README.md']\n",
      "\n",
      "Current Path: C:/Users/o050862/Desktop/Python Module\\exerPythModPackTutorial\\.git\n",
      "Directories: ['hooks', 'info', 'logs', 'objects', 'refs']\n",
      "Files: ['COMMIT_EDITMSG', 'config', 'description', 'FETCH_HEAD', 'HEAD', 'index', 'ORIG_HEAD', 'packed-refs']\n",
      "\n",
      "Current Path: C:/Users/o050862/Desktop/Python Module\\exerPythModPackTutorial\\.git\\hooks\n",
      "Directories: []\n",
      "Files: ['applypatch-msg.sample', 'commit-msg.sample', 'fsmonitor-watchman.sample', 'post-update.sample', 'pre-applypatch.sample', 'pre-commit.sample', 'pre-merge-commit.sample', 'pre-push.sample', 'pre-rebase.sample', 'pre-receive.sample', 'prepare-commit-msg.sample', 'push-to-checkout.sample', 'update.sample']\n",
      "\n",
      "Current Path: C:/Users/o050862/Desktop/Python Module\\exerPythModPackTutorial\\.git\\info\n",
      "Directories: []\n",
      "Files: ['exclude']\n",
      "\n",
      "Current Path: C:/Users/o050862/Desktop/Python Module\\exerPythModPackTutorial\\.git\\logs\n",
      "Directories: ['refs']\n",
      "Files: ['HEAD']\n",
      "\n",
      "Current Path: C:/Users/o050862/Desktop/Python Module\\exerPythModPackTutorial\\.git\\logs\\refs\n",
      "Directories: ['heads', 'remotes']\n",
      "Files: []\n",
      "\n",
      "Current Path: C:/Users/o050862/Desktop/Python Module\\exerPythModPackTutorial\\.git\\logs\\refs\\heads\n",
      "Directories: []\n",
      "Files: ['master']\n",
      "\n",
      "Current Path: C:/Users/o050862/Desktop/Python Module\\exerPythModPackTutorial\\.git\\logs\\refs\\remotes\n",
      "Directories: ['origin']\n",
      "Files: []\n",
      "\n",
      "Current Path: C:/Users/o050862/Desktop/Python Module\\exerPythModPackTutorial\\.git\\logs\\refs\\remotes\\origin\n",
      "Directories: []\n",
      "Files: ['HEAD', 'master']\n",
      "\n",
      "Current Path: C:/Users/o050862/Desktop/Python Module\\exerPythModPackTutorial\\.git\\objects\n",
      "Directories: ['2f', '90', 'a5', 'c0', 'dd', 'info', 'pack']\n",
      "Files: []\n",
      "\n",
      "Current Path: C:/Users/o050862/Desktop/Python Module\\exerPythModPackTutorial\\.git\\objects\\2f\n",
      "Directories: []\n",
      "Files: ['dcd6b5ff291691c9f51dd070b1e174efcbbf72']\n",
      "\n",
      "Current Path: C:/Users/o050862/Desktop/Python Module\\exerPythModPackTutorial\\.git\\objects\\90\n",
      "Directories: []\n",
      "Files: ['9306e5733882b2a583b43b1dd88d45c96cd6b5']\n",
      "\n",
      "Current Path: C:/Users/o050862/Desktop/Python Module\\exerPythModPackTutorial\\.git\\objects\\a5\n",
      "Directories: []\n",
      "Files: ['59eb0f2ba10a77fb7b8411cf0f0d3f106d826a']\n",
      "\n",
      "Current Path: C:/Users/o050862/Desktop/Python Module\\exerPythModPackTutorial\\.git\\objects\\c0\n",
      "Directories: []\n",
      "Files: ['3e3bd916e573bf6fac374a7a66cc2ca3f1c9e5']\n",
      "\n",
      "Current Path: C:/Users/o050862/Desktop/Python Module\\exerPythModPackTutorial\\.git\\objects\\dd\n",
      "Directories: []\n",
      "Files: ['b1d98ac9e7460d78cbff03b91cb7d329abc50c']\n",
      "\n",
      "Current Path: C:/Users/o050862/Desktop/Python Module\\exerPythModPackTutorial\\.git\\objects\\info\n",
      "Directories: []\n",
      "Files: []\n",
      "\n",
      "Current Path: C:/Users/o050862/Desktop/Python Module\\exerPythModPackTutorial\\.git\\objects\\pack\n",
      "Directories: []\n",
      "Files: ['pack-4e7aa90a0b326de104a53d45de5cbfb9a40b0864.idx', 'pack-4e7aa90a0b326de104a53d45de5cbfb9a40b0864.pack']\n",
      "\n",
      "Current Path: C:/Users/o050862/Desktop/Python Module\\exerPythModPackTutorial\\.git\\refs\n",
      "Directories: ['heads', 'remotes', 'tags']\n",
      "Files: []\n",
      "\n",
      "Current Path: C:/Users/o050862/Desktop/Python Module\\exerPythModPackTutorial\\.git\\refs\\heads\n",
      "Directories: []\n",
      "Files: ['master']\n",
      "\n",
      "Current Path: C:/Users/o050862/Desktop/Python Module\\exerPythModPackTutorial\\.git\\refs\\remotes\n",
      "Directories: ['origin']\n",
      "Files: []\n",
      "\n",
      "Current Path: C:/Users/o050862/Desktop/Python Module\\exerPythModPackTutorial\\.git\\refs\\remotes\\origin\n",
      "Directories: []\n",
      "Files: ['HEAD', 'master']\n",
      "\n",
      "Current Path: C:/Users/o050862/Desktop/Python Module\\exerPythModPackTutorial\\.git\\refs\\tags\n",
      "Directories: []\n",
      "Files: []\n",
      "\n",
      "Current Path: C:/Users/o050862/Desktop/Python Module\\exerPythModPackTutorial\\.ipynb_checkpoints\n",
      "Directories: []\n",
      "Files: ['fact-checkpoint.ipynb', 'mod-checkpoint.ipynb']\n",
      "\n",
      "Current Path: C:/Users/o050862/Desktop/Python Module\\Test\n",
      "Directories: ['exerPythDataScienceTut']\n",
      "Files: ['Newfile.py']\n",
      "\n",
      "Current Path: C:/Users/o050862/Desktop/Python Module\\Test\\exerPythDataScienceTut\n",
      "Directories: ['.git', '.ipynb_checkpoints']\n",
      "Files: ['cars.csv', 'New.py', 'README.md', 'Test2.ipynb', 'Untitled.ipynb']\n",
      "\n",
      "Current Path: C:/Users/o050862/Desktop/Python Module\\Test\\exerPythDataScienceTut\\.git\n",
      "Directories: ['hooks', 'info', 'logs', 'objects', 'refs']\n",
      "Files: ['COMMIT_EDITMSG', 'config', 'description', 'FETCH_HEAD', 'HEAD', 'index', 'ORIG_HEAD', 'packed-refs']\n",
      "\n",
      "Current Path: C:/Users/o050862/Desktop/Python Module\\Test\\exerPythDataScienceTut\\.git\\hooks\n",
      "Directories: []\n",
      "Files: ['applypatch-msg.sample', 'commit-msg.sample', 'fsmonitor-watchman.sample', 'post-update.sample', 'pre-applypatch.sample', 'pre-commit.sample', 'pre-merge-commit.sample', 'pre-push.sample', 'pre-rebase.sample', 'pre-receive.sample', 'prepare-commit-msg.sample', 'push-to-checkout.sample', 'update.sample']\n",
      "\n",
      "Current Path: C:/Users/o050862/Desktop/Python Module\\Test\\exerPythDataScienceTut\\.git\\info\n",
      "Directories: []\n",
      "Files: ['exclude']\n",
      "\n",
      "Current Path: C:/Users/o050862/Desktop/Python Module\\Test\\exerPythDataScienceTut\\.git\\logs\n",
      "Directories: ['refs']\n",
      "Files: ['HEAD']\n",
      "\n",
      "Current Path: C:/Users/o050862/Desktop/Python Module\\Test\\exerPythDataScienceTut\\.git\\logs\\refs\n",
      "Directories: ['heads', 'remotes']\n",
      "Files: []\n",
      "\n",
      "Current Path: C:/Users/o050862/Desktop/Python Module\\Test\\exerPythDataScienceTut\\.git\\logs\\refs\\heads\n",
      "Directories: []\n",
      "Files: ['master']\n",
      "\n",
      "Current Path: C:/Users/o050862/Desktop/Python Module\\Test\\exerPythDataScienceTut\\.git\\logs\\refs\\remotes\n",
      "Directories: ['origin']\n",
      "Files: []\n",
      "\n",
      "Current Path: C:/Users/o050862/Desktop/Python Module\\Test\\exerPythDataScienceTut\\.git\\logs\\refs\\remotes\\origin\n",
      "Directories: []\n",
      "Files: ['HEAD', 'master']\n",
      "\n",
      "Current Path: C:/Users/o050862/Desktop/Python Module\\Test\\exerPythDataScienceTut\\.git\\objects\n",
      "Directories: ['23', '31', '9f', 'ad', 'c1', 'ed', 'info', 'pack']\n",
      "Files: []\n",
      "\n",
      "Current Path: C:/Users/o050862/Desktop/Python Module\\Test\\exerPythDataScienceTut\\.git\\objects\\23\n",
      "Directories: []\n",
      "Files: ['bc0e10678ef19a3754776ef9af4826d60b815c']\n",
      "\n",
      "Current Path: C:/Users/o050862/Desktop/Python Module\\Test\\exerPythDataScienceTut\\.git\\objects\\31\n",
      "Directories: []\n",
      "Files: ['af7dbfcde72fecbdd91a1b0a2af5eacb289a86']\n",
      "\n",
      "Current Path: C:/Users/o050862/Desktop/Python Module\\Test\\exerPythDataScienceTut\\.git\\objects\\9f\n",
      "Directories: []\n",
      "Files: ['86373a2a1027aeae519a4f8ce5e759a5f83bf1']\n",
      "\n",
      "Current Path: C:/Users/o050862/Desktop/Python Module\\Test\\exerPythDataScienceTut\\.git\\objects\\ad\n",
      "Directories: []\n",
      "Files: ['c64e588b799fe6216f546c2d29480ac0cd124c']\n",
      "\n",
      "Current Path: C:/Users/o050862/Desktop/Python Module\\Test\\exerPythDataScienceTut\\.git\\objects\\c1\n",
      "Directories: []\n",
      "Files: ['5382eb1b3e5270cf63dd39247d92568e19b737']\n",
      "\n",
      "Current Path: C:/Users/o050862/Desktop/Python Module\\Test\\exerPythDataScienceTut\\.git\\objects\\ed\n",
      "Directories: []\n",
      "Files: ['0f110e2e61eec18680b264e0f9917ec1c2720b']\n",
      "\n",
      "Current Path: C:/Users/o050862/Desktop/Python Module\\Test\\exerPythDataScienceTut\\.git\\objects\\info\n",
      "Directories: []\n",
      "Files: []\n",
      "\n",
      "Current Path: C:/Users/o050862/Desktop/Python Module\\Test\\exerPythDataScienceTut\\.git\\objects\\pack\n",
      "Directories: []\n",
      "Files: ['pack-c852839ebbeb1583dcbd660a7c78b6caf021bcd0.idx', 'pack-c852839ebbeb1583dcbd660a7c78b6caf021bcd0.pack']\n",
      "\n",
      "Current Path: C:/Users/o050862/Desktop/Python Module\\Test\\exerPythDataScienceTut\\.git\\refs\n",
      "Directories: ['heads', 'remotes', 'tags']\n",
      "Files: []\n",
      "\n",
      "Current Path: C:/Users/o050862/Desktop/Python Module\\Test\\exerPythDataScienceTut\\.git\\refs\\heads\n",
      "Directories: []\n",
      "Files: ['master']\n",
      "\n",
      "Current Path: C:/Users/o050862/Desktop/Python Module\\Test\\exerPythDataScienceTut\\.git\\refs\\remotes\n",
      "Directories: ['origin']\n",
      "Files: []\n",
      "\n",
      "Current Path: C:/Users/o050862/Desktop/Python Module\\Test\\exerPythDataScienceTut\\.git\\refs\\remotes\\origin\n",
      "Directories: []\n",
      "Files: ['HEAD', 'master']\n",
      "\n",
      "Current Path: C:/Users/o050862/Desktop/Python Module\\Test\\exerPythDataScienceTut\\.git\\refs\\tags\n",
      "Directories: []\n",
      "Files: []\n",
      "\n",
      "Current Path: C:/Users/o050862/Desktop/Python Module\\Test\\exerPythDataScienceTut\\.ipynb_checkpoints\n",
      "Directories: []\n",
      "Files: ['Test2-checkpoint.ipynb', 'Untitled-checkpoint.ipynb']\n",
      "\n",
      "Current Path: C:/Users/o050862/Desktop/PythonTutorial\n",
      "Directories: ['exerPythOsTutorial']\n",
      "Files: []\n",
      "\n",
      "Current Path: C:/Users/o050862/Desktop/PythonTutorial\\exerPythOsTutorial\n",
      "Directories: ['.git', '.ipynb_checkpoints']\n",
      "Files: [' OSTutoria.ipynb', 'README.md']\n",
      "\n",
      "Current Path: C:/Users/o050862/Desktop/PythonTutorial\\exerPythOsTutorial\\.git\n",
      "Directories: ['hooks', 'info', 'logs', 'objects', 'refs']\n",
      "Files: ['config', 'description', 'HEAD', 'index', 'packed-refs']\n",
      "\n",
      "Current Path: C:/Users/o050862/Desktop/PythonTutorial\\exerPythOsTutorial\\.git\\hooks\n",
      "Directories: []\n",
      "Files: ['applypatch-msg.sample', 'commit-msg.sample', 'fsmonitor-watchman.sample', 'post-update.sample', 'pre-applypatch.sample', 'pre-commit.sample', 'pre-merge-commit.sample', 'pre-push.sample', 'pre-rebase.sample', 'pre-receive.sample', 'prepare-commit-msg.sample', 'push-to-checkout.sample', 'update.sample']\n",
      "\n",
      "Current Path: C:/Users/o050862/Desktop/PythonTutorial\\exerPythOsTutorial\\.git\\info\n",
      "Directories: []\n",
      "Files: ['exclude']\n",
      "\n",
      "Current Path: C:/Users/o050862/Desktop/PythonTutorial\\exerPythOsTutorial\\.git\\logs\n",
      "Directories: ['refs']\n",
      "Files: ['HEAD']\n",
      "\n",
      "Current Path: C:/Users/o050862/Desktop/PythonTutorial\\exerPythOsTutorial\\.git\\logs\\refs\n",
      "Directories: ['heads', 'remotes']\n",
      "Files: []\n",
      "\n",
      "Current Path: C:/Users/o050862/Desktop/PythonTutorial\\exerPythOsTutorial\\.git\\logs\\refs\\heads\n",
      "Directories: []\n",
      "Files: ['master']\n",
      "\n",
      "Current Path: C:/Users/o050862/Desktop/PythonTutorial\\exerPythOsTutorial\\.git\\logs\\refs\\remotes\n",
      "Directories: ['origin']\n",
      "Files: []\n",
      "\n",
      "Current Path: C:/Users/o050862/Desktop/PythonTutorial\\exerPythOsTutorial\\.git\\logs\\refs\\remotes\\origin\n",
      "Directories: []\n",
      "Files: ['HEAD']\n",
      "\n",
      "Current Path: C:/Users/o050862/Desktop/PythonTutorial\\exerPythOsTutorial\\.git\\objects\n",
      "Directories: ['info', 'pack']\n",
      "Files: []\n",
      "\n",
      "Current Path: C:/Users/o050862/Desktop/PythonTutorial\\exerPythOsTutorial\\.git\\objects\\info\n",
      "Directories: []\n",
      "Files: []\n",
      "\n",
      "Current Path: C:/Users/o050862/Desktop/PythonTutorial\\exerPythOsTutorial\\.git\\objects\\pack\n",
      "Directories: []\n",
      "Files: ['pack-3dcd781a7c96ffa7eb4340c2085d98e627b1fcc6.idx', 'pack-3dcd781a7c96ffa7eb4340c2085d98e627b1fcc6.pack']\n",
      "\n",
      "Current Path: C:/Users/o050862/Desktop/PythonTutorial\\exerPythOsTutorial\\.git\\refs\n",
      "Directories: ['heads', 'remotes', 'tags']\n",
      "Files: []\n",
      "\n",
      "Current Path: C:/Users/o050862/Desktop/PythonTutorial\\exerPythOsTutorial\\.git\\refs\\heads\n",
      "Directories: []\n",
      "Files: ['master']\n",
      "\n",
      "Current Path: C:/Users/o050862/Desktop/PythonTutorial\\exerPythOsTutorial\\.git\\refs\\remotes\n",
      "Directories: ['origin']\n",
      "Files: []\n",
      "\n",
      "Current Path: C:/Users/o050862/Desktop/PythonTutorial\\exerPythOsTutorial\\.git\\refs\\remotes\\origin\n",
      "Directories: []\n",
      "Files: ['HEAD']\n",
      "\n",
      "Current Path: C:/Users/o050862/Desktop/PythonTutorial\\exerPythOsTutorial\\.git\\refs\\tags\n",
      "Directories: []\n",
      "Files: []\n",
      "\n",
      "Current Path: C:/Users/o050862/Desktop/PythonTutorial\\exerPythOsTutorial\\.ipynb_checkpoints\n",
      "Directories: []\n",
      "Files: [' OSTutoria-checkpoint.ipynb']\n",
      "\n"
     ]
    }
   ],
   "source": [
    " for dirpath, dirnames, filenames in os.walk('C:/Users/o050862/Desktop/'):\n",
    "    print ('Current Path:', dirpath)\n",
    "    print ('Directories:', dirnames)\n",
    "    print ('Files:', filenames)\n",
    "    print()"
   ]
  },
  {
   "cell_type": "code",
   "execution_count": 53,
   "id": "dce761dd",
   "metadata": {},
   "outputs": [
    {
     "name": "stdout",
     "output_type": "stream",
     "text": [
      "None\n"
     ]
    }
   ],
   "source": [
    "print(os.environ.get('HOME'))\n"
   ]
  },
  {
   "cell_type": "code",
   "execution_count": 52,
   "id": "797c1895",
   "metadata": {},
   "outputs": [
    {
     "ename": "TypeError",
     "evalue": "expected str, bytes or os.PathLike object, not NoneType",
     "output_type": "error",
     "traceback": [
      "\u001b[1;31m---------------------------------------------------------------------------\u001b[0m",
      "\u001b[1;31mTypeError\u001b[0m                                 Traceback (most recent call last)",
      "\u001b[1;32m<ipython-input-52-b9342e799db2>\u001b[0m in \u001b[0;36m<module>\u001b[1;34m\u001b[0m\n\u001b[1;32m----> 1\u001b[1;33m \u001b[0mfile_path\u001b[0m \u001b[1;33m=\u001b[0m \u001b[0mos\u001b[0m\u001b[1;33m.\u001b[0m\u001b[0mpath\u001b[0m\u001b[1;33m.\u001b[0m\u001b[0mjoin\u001b[0m\u001b[1;33m(\u001b[0m\u001b[0mos\u001b[0m\u001b[1;33m.\u001b[0m\u001b[0menviron\u001b[0m\u001b[1;33m.\u001b[0m\u001b[0mget\u001b[0m\u001b[1;33m(\u001b[0m\u001b[1;34m'HOME'\u001b[0m\u001b[1;33m)\u001b[0m\u001b[1;33m,\u001b[0m \u001b[1;34m'test.txt'\u001b[0m\u001b[1;33m)\u001b[0m\u001b[1;33m\u001b[0m\u001b[1;33m\u001b[0m\u001b[0m\n\u001b[0m\u001b[0;32m      2\u001b[0m \u001b[1;33m\u001b[0m\u001b[0m\n\u001b[0;32m      3\u001b[0m \u001b[0mprint\u001b[0m\u001b[1;33m(\u001b[0m\u001b[0mfile_path\u001b[0m\u001b[1;33m)\u001b[0m\u001b[1;33m\u001b[0m\u001b[1;33m\u001b[0m\u001b[0m\n",
      "\u001b[1;32m~\\Anaconda3\\lib\\ntpath.py\u001b[0m in \u001b[0;36mjoin\u001b[1;34m(path, *paths)\u001b[0m\n\u001b[0;32m     76\u001b[0m \u001b[1;31m# Join two (or more) paths.\u001b[0m\u001b[1;33m\u001b[0m\u001b[1;33m\u001b[0m\u001b[1;33m\u001b[0m\u001b[0m\n\u001b[0;32m     77\u001b[0m \u001b[1;32mdef\u001b[0m \u001b[0mjoin\u001b[0m\u001b[1;33m(\u001b[0m\u001b[0mpath\u001b[0m\u001b[1;33m,\u001b[0m \u001b[1;33m*\u001b[0m\u001b[0mpaths\u001b[0m\u001b[1;33m)\u001b[0m\u001b[1;33m:\u001b[0m\u001b[1;33m\u001b[0m\u001b[1;33m\u001b[0m\u001b[0m\n\u001b[1;32m---> 78\u001b[1;33m     \u001b[0mpath\u001b[0m \u001b[1;33m=\u001b[0m \u001b[0mos\u001b[0m\u001b[1;33m.\u001b[0m\u001b[0mfspath\u001b[0m\u001b[1;33m(\u001b[0m\u001b[0mpath\u001b[0m\u001b[1;33m)\u001b[0m\u001b[1;33m\u001b[0m\u001b[1;33m\u001b[0m\u001b[0m\n\u001b[0m\u001b[0;32m     79\u001b[0m     \u001b[1;32mif\u001b[0m \u001b[0misinstance\u001b[0m\u001b[1;33m(\u001b[0m\u001b[0mpath\u001b[0m\u001b[1;33m,\u001b[0m \u001b[0mbytes\u001b[0m\u001b[1;33m)\u001b[0m\u001b[1;33m:\u001b[0m\u001b[1;33m\u001b[0m\u001b[1;33m\u001b[0m\u001b[0m\n\u001b[0;32m     80\u001b[0m         \u001b[0msep\u001b[0m \u001b[1;33m=\u001b[0m \u001b[1;34mb'\\\\'\u001b[0m\u001b[1;33m\u001b[0m\u001b[1;33m\u001b[0m\u001b[0m\n",
      "\u001b[1;31mTypeError\u001b[0m: expected str, bytes or os.PathLike object, not NoneType"
     ]
    }
   ],
   "source": [
    "file_path = os.path.join(os.environ.get('HOME'), 'test.txt')\n",
    "\n",
    "print(file_path)\n"
   ]
  },
  {
   "cell_type": "code",
   "execution_count": 36,
   "id": "3f616f3d",
   "metadata": {},
   "outputs": [
    {
     "name": "stdout",
     "output_type": "stream",
     "text": [
      "test.txt\n"
     ]
    }
   ],
   "source": [
    "print(os.path.basename('/tmp/test.txt'))"
   ]
  },
  {
   "cell_type": "code",
   "execution_count": 46,
   "id": "8322a1b7",
   "metadata": {},
   "outputs": [
    {
     "name": "stdout",
     "output_type": "stream",
     "text": [
      "/tmp\n"
     ]
    }
   ],
   "source": [
    " #print(os.path.dirname('/tmp/test.txt'))"
   ]
  },
  {
   "cell_type": "code",
   "execution_count": 48,
   "id": "33529888",
   "metadata": {},
   "outputs": [
    {
     "name": "stdout",
     "output_type": "stream",
     "text": [
      "('/tmp', 'test.txt')\n"
     ]
    }
   ],
   "source": [
    "#print(os.path.split('/tmp/test.txt'))"
   ]
  },
  {
   "cell_type": "code",
   "execution_count": 49,
   "id": "d694feea",
   "metadata": {},
   "outputs": [
    {
     "name": "stdout",
     "output_type": "stream",
     "text": [
      "False\n"
     ]
    }
   ],
   "source": [
    "#print(os.path.exists('/tmp/test.txt'))"
   ]
  },
  {
   "cell_type": "code",
   "execution_count": 50,
   "id": "308e2371",
   "metadata": {},
   "outputs": [
    {
     "name": "stdout",
     "output_type": "stream",
     "text": [
      "False\n"
     ]
    }
   ],
   "source": [
    "#print(os.path.isdir('/tmp/test.txt'))"
   ]
  },
  {
   "cell_type": "code",
   "execution_count": 51,
   "id": "53567f8d",
   "metadata": {},
   "outputs": [
    {
     "name": "stdout",
     "output_type": "stream",
     "text": [
      "('/tmp/test', '.txt')\n"
     ]
    }
   ],
   "source": [
    "#print(os.path.splitext('/tmp/test.txt'))"
   ]
  },
  {
   "cell_type": "code",
   "execution_count": null,
   "id": "b3cac559",
   "metadata": {},
   "outputs": [],
   "source": []
  }
 ],
 "metadata": {
  "kernelspec": {
   "display_name": "Python 3",
   "language": "python",
   "name": "python3"
  },
  "language_info": {
   "codemirror_mode": {
    "name": "ipython",
    "version": 3
   },
   "file_extension": ".py",
   "mimetype": "text/x-python",
   "name": "python",
   "nbconvert_exporter": "python",
   "pygments_lexer": "ipython3",
   "version": "3.8.8"
  }
 },
 "nbformat": 4,
 "nbformat_minor": 5
}
